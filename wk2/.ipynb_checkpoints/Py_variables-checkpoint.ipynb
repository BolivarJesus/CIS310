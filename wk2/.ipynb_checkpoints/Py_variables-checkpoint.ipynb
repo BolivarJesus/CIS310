{
 "cells": [
  {
   "cell_type": "markdown",
   "metadata": {},
   "source": [
    "# Jesus Bolivar\n",
    "## Week 2: 8/29/2023 - 8/31/2023\n",
    "### Python Variables"
   ]
  },
  {
   "cell_type": "markdown",
   "metadata": {},
   "source": [
    "Primitive data types\n",
    "Python has four primitive data types:\n",
    "\n",
    "-Integer\n",
    "\n",
    "-Float\n",
    "\n",
    "-String\n",
    "\n",
    "-Boolean\n"
   ]
  },
  {
   "cell_type": "raw",
   "metadata": {},
   "source": []
  }
 ],
 "metadata": {
  "kernelspec": {
   "display_name": "Python 3",
   "language": "python",
   "name": "python3"
  },
  "language_info": {
   "codemirror_mode": {
    "name": "ipython",
    "version": 3
   },
   "file_extension": ".py",
   "mimetype": "text/x-python",
   "name": "python",
   "nbconvert_exporter": "python",
   "pygments_lexer": "ipython3",
   "version": "3.7.4"
  }
 },
 "nbformat": 4,
 "nbformat_minor": 4
}
