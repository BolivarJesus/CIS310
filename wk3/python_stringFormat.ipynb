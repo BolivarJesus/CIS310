{
 "cells": [
  {
   "cell_type": "markdown",
   "metadata": {},
   "source": [
    "# Jesus Bolivar\n",
    "## Week 3: 09/05/2023\n",
    "### Formatting output using. sign % format () method, and literals f-strings"
   ]
  },
  {
   "cell_type": "code",
   "execution_count": 2,
   "metadata": {},
   "outputs": [
    {
     "name": "stdout",
     "output_type": "stream",
     "text": [
      "The quick brown cat jumps over the lazy dog\n"
     ]
    }
   ],
   "source": [
    "# percent specifier sign %\n",
    "print(\"The quick brown %s jumps over the lazy dog\" %'cat')"
   ]
  },
  {
   "cell_type": "code",
   "execution_count": 5,
   "metadata": {},
   "outputs": [
    {
     "name": "stdout",
     "output_type": "stream",
     "text": [
      "The quick brown cat jumps over the lazy dog\n"
     ]
    }
   ],
   "source": [
    "n = 'cat'\n",
    "print(\"The quick brown %s jumps over the lazy dog\" %n)"
   ]
  },
  {
   "cell_type": "code",
   "execution_count": 7,
   "metadata": {},
   "outputs": [
    {
     "name": "stdout",
     "output_type": "stream",
     "text": [
      "The quick brown fox jumps over the lazy dog\n"
     ]
    }
   ],
   "source": [
    "print(\"The quick brown %s jumps over the lazy %s\" %('fox', 'dog'))"
   ]
  },
  {
   "cell_type": "code",
   "execution_count": 8,
   "metadata": {},
   "outputs": [
    {
     "name": "stdout",
     "output_type": "stream",
     "text": [
      "The quick brown fox jumps over the lazy dog\n"
     ]
    }
   ],
   "source": [
    "name1 = 'fox'\n",
    "name2 = 'dog'\n",
    "print(\"The quick brown %s jumps over the lazy %s\" %(name1, name2))"
   ]
  },
  {
   "cell_type": "code",
   "execution_count": 10,
   "metadata": {},
   "outputs": [
    {
     "name": "stdout",
     "output_type": "stream",
     "text": [
      "The quick brown 'fox' jumps over the lazy 'dog'\n"
     ]
    }
   ],
   "source": [
    "print(\"The quick brown %r jumps over the lazy %r\" %(name1, name2))"
   ]
  },
  {
   "cell_type": "code",
   "execution_count": 11,
   "metadata": {},
   "outputs": [
    {
     "name": "stdout",
     "output_type": "stream",
     "text": [
      "The quick brown cat jumps over the lazy dog\n"
     ]
    }
   ],
   "source": [
    "print(\"The quick brown %s jumps over the lazy dog\" %'cat')"
   ]
  },
  {
   "cell_type": "code",
   "execution_count": 12,
   "metadata": {},
   "outputs": [
    {
     "name": "stdout",
     "output_type": "stream",
     "text": [
      "The quick brown \tcat jumps over the lazy dog\n"
     ]
    }
   ],
   "source": [
    "print(\"The quick brown %s jumps over the lazy dog\" %'\\tcat')"
   ]
  },
  {
   "cell_type": "code",
   "execution_count": 13,
   "metadata": {},
   "outputs": [
    {
     "name": "stdout",
     "output_type": "stream",
     "text": [
      "My socre is 98.88 in CIS310\n"
     ]
    }
   ],
   "source": [
    "# formatting matters\n",
    "print('My socre is %s in CIS310' %'98.88')"
   ]
  },
  {
   "cell_type": "code",
   "execution_count": 15,
   "metadata": {},
   "outputs": [
    {
     "name": "stdout",
     "output_type": "stream",
     "text": [
      "My socre is 98 in CIS310\n"
     ]
    }
   ],
   "source": [
    "print('My socre is %d in CIS310' %98.88)"
   ]
  },
  {
   "cell_type": "code",
   "execution_count": 17,
   "metadata": {},
   "outputs": [
    {
     "name": "stdout",
     "output_type": "stream",
     "text": [
      "My socre is 98 in CIS310\n"
     ]
    }
   ],
   "source": [
    "s = 98.88\n",
    "print('My socre is %d in CIS310' %s)"
   ]
  },
  {
   "cell_type": "code",
   "execution_count": 21,
   "metadata": {},
   "outputs": [
    {
     "name": "stdout",
     "output_type": "stream",
     "text": [
      "My socre is 98.880000 in CIS310\n"
     ]
    }
   ],
   "source": [
    "s = 98.88\n",
    "print('My socre is %f in CIS310' %s)"
   ]
  },
  {
   "cell_type": "code",
   "execution_count": 20,
   "metadata": {},
   "outputs": [
    {
     "name": "stdout",
     "output_type": "stream",
     "text": [
      "My socre is 98.88 in CIS310\n"
     ]
    }
   ],
   "source": [
    "print('My socre is %5.2f in CIS310' %s)"
   ]
  },
  {
   "cell_type": "code",
   "execution_count": 23,
   "metadata": {},
   "outputs": [
    {
     "name": "stdout",
     "output_type": "stream",
     "text": [
      "My socre is  98.9 in CIS310\n"
     ]
    }
   ],
   "source": [
    "print('My socre is %5.1f in CIS310' %s)"
   ]
  },
  {
   "cell_type": "code",
   "execution_count": 24,
   "metadata": {},
   "outputs": [
    {
     "name": "stdout",
     "output_type": "stream",
     "text": [
      "My socre is         99 in CIS310\n"
     ]
    }
   ],
   "source": [
    "print('My socre is %10.0f in CIS310' %s)"
   ]
  },
  {
   "cell_type": "code",
   "execution_count": 29,
   "metadata": {},
   "outputs": [
    {
     "name": "stdout",
     "output_type": "stream",
     "text": [
      "I am using general purpose language Python to perform data analysis!\n"
     ]
    }
   ],
   "source": [
    "# formatting with the .format() method with {}\n",
    "print(\"I am using general purpose language {} to perform data analysis!\".format('Python'))"
   ]
  },
  {
   "cell_type": "code",
   "execution_count": 30,
   "metadata": {},
   "outputs": [
    {
     "name": "stdout",
     "output_type": "stream",
     "text": [
      "The brown fox jumps over the lazy dog\n"
     ]
    }
   ],
   "source": [
    "name1, name2 = 'fox', 'dog'\n",
    "print(\"The {1} {0} jumps over the {3} {2}\".format(name1, 'brown', name2, 'lazy'))"
   ]
  },
  {
   "cell_type": "code",
   "execution_count": 32,
   "metadata": {},
   "outputs": [
    {
     "name": "stdout",
     "output_type": "stream",
     "text": [
      "The fox brown jumps over the dog lazy\n"
     ]
    }
   ],
   "source": [
    "print(\"The {} {} jumps over the {} {}\".format(name1, 'brown', name2, 'lazy'))"
   ]
  },
  {
   "cell_type": "code",
   "execution_count": 33,
   "metadata": {},
   "outputs": [
    {
     "name": "stdout",
     "output_type": "stream",
     "text": [
      "The fox brown jumps over the dog lazy\n"
     ]
    }
   ],
   "source": [
    "print(\"The {0} {1} jumps over the {2} {3}\".format(name1, 'brown', name2, 'lazy'))"
   ]
  },
  {
   "cell_type": "code",
   "execution_count": 34,
   "metadata": {},
   "outputs": [
    {
     "name": "stdout",
     "output_type": "stream",
     "text": [
      "The lazy dog jumps over the brown fox\n"
     ]
    }
   ],
   "source": [
    "print(\"The {3} {2} jumps over the {1} {0}\".format(name1, 'brown', name2, 'lazy'))"
   ]
  },
  {
   "cell_type": "code",
   "execution_count": 40,
   "metadata": {},
   "outputs": [
    {
     "name": "stdout",
     "output_type": "stream",
     "text": [
      "My current GPA in CIS310: 3.99, and That is A\n"
     ]
    }
   ],
   "source": [
    "gpa = 3.99\n",
    "print('My current GPA in CIS310: {0:2.2f}, and {1}'.format(gpa, 'That is A'))"
   ]
  },
  {
   "cell_type": "code",
   "execution_count": 57,
   "metadata": {},
   "outputs": [
    {
     "name": "stdout",
     "output_type": "stream",
     "text": [
      "Food       | calories \n",
      "Apples     | 3.5      \n",
      "Food       | calories \n"
     ]
    }
   ],
   "source": [
    "#index\n",
    "print('{0:10} | {1:9}'.format('Food', 'calories'))\n",
    "print('{0:10} | {1:9}'.format('Apples', '3.5'))\n",
    "print('{0:10} | {1:9}'.format('Food', 'calories'))"
   ]
  },
  {
   "cell_type": "code",
   "execution_count": 42,
   "metadata": {},
   "outputs": [
    {
     "name": "stdout",
     "output_type": "stream",
     "text": [
      " Dr. Abdunabi teaches CIS310, CIS350, CIS413, and CIS620 in fall 2023!\n"
     ]
    }
   ],
   "source": [
    "# Formatting string literals f-strings\n",
    "n = 'Dr. Abdunabi'\n",
    "term = 'fall 2023'\n",
    "print(f' {n} teaches CIS310, CIS350, CIS413, and CIS620 in {term}!')"
   ]
  },
  {
   "cell_type": "code",
   "execution_count": 50,
   "metadata": {},
   "outputs": [],
   "source": [
    "#numbers\n",
    "radius = 2.5\n",
    "area = (radius*2) * 2.141516"
   ]
  },
  {
   "cell_type": "code",
   "execution_count": 51,
   "metadata": {},
   "outputs": [
    {
     "name": "stdout",
     "output_type": "stream",
     "text": [
      "The area for the radius 2.50 is 10.7076\n"
     ]
    }
   ],
   "source": [
    "print(f\"The area for the radius {radius:2.2f} is {area:3.4f}\")"
   ]
  },
  {
   "cell_type": "code",
   "execution_count": 55,
   "metadata": {},
   "outputs": [
    {
     "name": "stdout",
     "output_type": "stream",
     "text": [
      "The value of pi ratio is approximately 3.1416\n"
     ]
    }
   ],
   "source": [
    "import math\n",
    "print(f\"The value of pi ratio is approximately {math.pi:2.4f}\")"
   ]
  },
  {
   "cell_type": "code",
   "execution_count": 56,
   "metadata": {},
   "outputs": [],
   "source": [
    "area = (radius**2) * math.pi"
   ]
  },
  {
   "cell_type": "code",
   "execution_count": 59,
   "metadata": {},
   "outputs": [
    {
     "name": "stdout",
     "output_type": "stream",
     "text": [
      "Enter your value: 25\n",
      "Your input is 25 \n"
     ]
    }
   ],
   "source": [
    "# Python input() Function\n",
    "print('Enter your value:', end=' ')\n",
    "\n",
    "user_input = input()\n",
    "print(f'Your input is {user_input} ')"
   ]
  },
  {
   "cell_type": "code",
   "execution_count": 1,
   "metadata": {},
   "outputs": [
    {
     "name": "stdout",
     "output_type": "stream",
     "text": [
      "Hello\n",
      "Your input is: Hello\n"
     ]
    }
   ],
   "source": [
    "num = input()\n",
    "print(\"Your input is: {}\".format(num))"
   ]
  },
  {
   "cell_type": "code",
   "execution_count": 2,
   "metadata": {},
   "outputs": [
    {
     "name": "stdout",
     "output_type": "stream",
     "text": [
      "Enter a value between 10 and 4020\n",
      "Your input is: 20\n"
     ]
    }
   ],
   "source": [
    "num = input(\"Enter a value between 10 and 40\")\n",
    "print(\"Your input is: {}\".format(num))"
   ]
  },
  {
   "cell_type": "code",
   "execution_count": 3,
   "metadata": {},
   "outputs": [
    {
     "data": {
      "text/plain": [
       "str"
      ]
     },
     "execution_count": 3,
     "metadata": {},
     "output_type": "execute_result"
    }
   ],
   "source": [
    "type(num)"
   ]
  },
  {
   "cell_type": "code",
   "execution_count": 19,
   "metadata": {},
   "outputs": [
    {
     "name": "stdout",
     "output_type": "stream",
     "text": [
      "Enter radius.3.45678\n",
      "The area for radius 3.46 is 37.54\n"
     ]
    }
   ],
   "source": [
    "import math\n",
    "radius = input(\"Enter radius.\")\n",
    "#radius = float(radius)\n",
    "area = (float(radius)**2) * math.pi\n",
    "print(f'The area for radius {float(radius):2.2f} is {area:2.2f}')"
   ]
  },
  {
   "cell_type": "code",
   "execution_count": 11,
   "metadata": {},
   "outputs": [
    {
     "data": {
      "text/plain": [
       "str"
      ]
     },
     "execution_count": 11,
     "metadata": {},
     "output_type": "execute_result"
    }
   ],
   "source": [
    "type(radius)"
   ]
  },
  {
   "cell_type": "code",
   "execution_count": 1,
   "metadata": {},
   "outputs": [],
   "source": [
    "# Python Casting\n",
    "x = int(1)\n",
    "y = int(3.5)\n",
    "z = int('5')"
   ]
  },
  {
   "cell_type": "code",
   "execution_count": 2,
   "metadata": {},
   "outputs": [
    {
     "data": {
      "text/plain": [
       "1"
      ]
     },
     "execution_count": 2,
     "metadata": {},
     "output_type": "execute_result"
    }
   ],
   "source": [
    "x"
   ]
  },
  {
   "cell_type": "code",
   "execution_count": 3,
   "metadata": {},
   "outputs": [
    {
     "data": {
      "text/plain": [
       "3"
      ]
     },
     "execution_count": 3,
     "metadata": {},
     "output_type": "execute_result"
    }
   ],
   "source": [
    "y"
   ]
  },
  {
   "cell_type": "code",
   "execution_count": 4,
   "metadata": {},
   "outputs": [
    {
     "data": {
      "text/plain": [
       "5"
      ]
     },
     "execution_count": 4,
     "metadata": {},
     "output_type": "execute_result"
    }
   ],
   "source": [
    "z"
   ]
  },
  {
   "cell_type": "code",
   "execution_count": 17,
   "metadata": {},
   "outputs": [],
   "source": [
    "# cast to float\n",
    "x = float(1) # x will be '1.0'\n",
    "y = float(3.5) # y will be '3.5'\n",
    "z = float('5') # z will be '5.0'\n",
    "w = float(\"4.2\") # w will be '4.2'"
   ]
  },
  {
   "cell_type": "code",
   "execution_count": 9,
   "metadata": {},
   "outputs": [
    {
     "name": "stdout",
     "output_type": "stream",
     "text": [
      "1.0 3.5 5.0 4.2\n"
     ]
    }
   ],
   "source": [
    "print(x,y,z,w)"
   ]
  },
  {
   "cell_type": "code",
   "execution_count": 12,
   "metadata": {},
   "outputs": [],
   "source": [
    "#cast to string\n",
    "x = str(\"cis\") # x will be 'cis'\n",
    "y = str(2) # y will be '2'\n",
    "z = str(4.5) # z will be '4.5'"
   ]
  },
  {
   "cell_type": "code",
   "execution_count": 13,
   "metadata": {},
   "outputs": [
    {
     "data": {
      "text/plain": [
       "'cis'"
      ]
     },
     "execution_count": 13,
     "metadata": {},
     "output_type": "execute_result"
    }
   ],
   "source": [
    "x"
   ]
  },
  {
   "cell_type": "code",
   "execution_count": 14,
   "metadata": {},
   "outputs": [
    {
     "data": {
      "text/plain": [
       "'2'"
      ]
     },
     "execution_count": 14,
     "metadata": {},
     "output_type": "execute_result"
    }
   ],
   "source": [
    "y"
   ]
  },
  {
   "cell_type": "code",
   "execution_count": 15,
   "metadata": {},
   "outputs": [
    {
     "data": {
      "text/plain": [
       "'4.5'"
      ]
     },
     "execution_count": 15,
     "metadata": {},
     "output_type": "execute_result"
    }
   ],
   "source": [
    "z"
   ]
  },
  {
   "cell_type": "code",
   "execution_count": null,
   "metadata": {},
   "outputs": [],
   "source": []
  }
 ],
 "metadata": {
  "kernelspec": {
   "display_name": "Python 3.7 - default",
   "language": "python",
   "name": "py37_default"
  },
  "language_info": {
   "codemirror_mode": {
    "name": "ipython",
    "version": 3
   },
   "file_extension": ".py",
   "mimetype": "text/x-python",
   "name": "python",
   "nbconvert_exporter": "python",
   "pygments_lexer": "ipython3",
   "version": "3.7.7"
  }
 },
 "nbformat": 4,
 "nbformat_minor": 4
}
