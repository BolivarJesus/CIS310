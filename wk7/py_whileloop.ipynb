{
 "cells": [
  {
   "cell_type": "markdown",
   "metadata": {},
   "source": [
    "# Jesus Bolivar\n",
    "## week 7 10/3/2023\n",
    "### while loops"
   ]
  },
  {
   "cell_type": "markdown",
   "metadata": {},
   "source": [
    "** The general format of python while loops:**\n",
    "\n",
    "<code>while test:\n",
    "              statements </code>"
   ]
  },
  {
   "cell_type": "code",
   "execution_count": 1,
   "metadata": {},
   "outputs": [
    {
     "name": "stdout",
     "output_type": "stream",
     "text": [
      "1\n",
      "2\n",
      "3\n",
      "4\n",
      "5\n",
      "6\n"
     ]
    }
   ],
   "source": [
    "n = 1\n",
    "while n<= 6:\n",
    "    print(n)\n",
    "    n+=1"
   ]
  },
  {
   "cell_type": "code",
   "execution_count": 5,
   "metadata": {},
   "outputs": [
    {
     "name": "stdout",
     "output_type": "stream",
     "text": [
      "s =  55\n"
     ]
    }
   ],
   "source": [
    "n = 1\n",
    "s = 0\n",
    "while n<= 10:\n",
    "    #print(n)\n",
    "    s+=n\n",
    "    n+=1\n",
    "    \n",
    "    \n",
    "print(\"s = \", s)"
   ]
  },
  {
   "cell_type": "code",
   "execution_count": 7,
   "metadata": {},
   "outputs": [
    {
     "name": "stdout",
     "output_type": "stream",
     "text": [
      "1\n",
      "2\n",
      "3\n",
      "4\n"
     ]
    }
   ],
   "source": [
    "lst = [1, 2, 3, 4]\n",
    "\n",
    "i = 0\n",
    "while i < len(lst):\n",
    "    print(lst[i])\n",
    "    i += 1\n"
   ]
  },
  {
   "cell_type": "code",
   "execution_count": 12,
   "metadata": {},
   "outputs": [
    {
     "name": "stdout",
     "output_type": "stream",
     "text": [
      "0 is even number?\n",
      "2 is even number?\n",
      "4 is even number?\n",
      "6 is even number?\n",
      "8 is even number?\n",
      "sum of our values is 25\n"
     ]
    }
   ],
   "source": [
    "n = 0\n",
    "s = 0\n",
    "while n< 10:\n",
    "    #print(n)\n",
    "    if n % 2 != 0:\n",
    "        s+=n\n",
    "    else:\n",
    "        print(f\"{n} is even number?\")\n",
    "    n+=1\n",
    "    \n",
    "print(f'sum of our values is {s}')"
   ]
  },
  {
   "cell_type": "code",
   "execution_count": 15,
   "metadata": {},
   "outputs": [
    {
     "name": "stdout",
     "output_type": "stream",
     "text": [
      "c i s 3 1 0 D a t a A n a l y t i c s "
     ]
    }
   ],
   "source": [
    " a = 'cis310DataAnalytics'\n",
    "    \n",
    "i = 0\n",
    "while i < len(a):\n",
    "    print(a[i], end=\" \")\n",
    "    i += 1"
   ]
  },
  {
   "cell_type": "code",
   "execution_count": 16,
   "metadata": {},
   "outputs": [
    {
     "name": "stdout",
     "output_type": "stream",
     "text": [
      "c i s 3 1 0 D "
     ]
    }
   ],
   "source": [
    "# break the loop as soon as it sees a condition\n",
    "\n",
    "i = 0\n",
    "while i < len(a):\n",
    "    if a[i] == 'a' or a[i] == 'l':\n",
    "        break\n",
    "    print(a[i], end=\" \")\n",
    "    i += 1"
   ]
  },
  {
   "cell_type": "code",
   "execution_count": 17,
   "metadata": {},
   "outputs": [
    {
     "name": "stdout",
     "output_type": "stream",
     "text": [
      "c i s 3 1 0 D t A n y t i c s "
     ]
    }
   ],
   "source": [
    "# continue the loop as soon it sees a condition, skip statements\n",
    "i = 0\n",
    "while i < len(a):\n",
    "    if a[i] == 'a' or a[i] == 'l':\n",
    "        i+=1\n",
    "        continue\n",
    "    print(a[i], end=\" \")\n",
    "    i += 1"
   ]
  },
  {
   "cell_type": "code",
   "execution_count": 20,
   "metadata": {},
   "outputs": [
    {
     "name": "stdout",
     "output_type": "stream",
     "text": [
      "Enter a number (-1 to quit): 10\n",
      "Enter a number (-1 to quit): 12\n",
      "Enter a number (-1 to quit): 15\n",
      "Enter a number (-1 to quit): 20\n",
      "Enter a number (-1 to quit): 10\n",
      "Enter a number (-1 to quit): -1\n",
      "The sum of all values 67\n"
     ]
    }
   ],
   "source": [
    "# loops based on the user input\n",
    "num = int(input('Enter a number (-1 to quit): '))\n",
    "s= 0\n",
    "while num != -1:\n",
    "    s+=num\n",
    "    num = int(input('Enter a number (-1 to quit): '))\n",
    "else:\n",
    "    print(f'The sum of all values {s}')"
   ]
  },
  {
   "cell_type": "code",
   "execution_count": 21,
   "metadata": {},
   "outputs": [
    {
     "name": "stdout",
     "output_type": "stream",
     "text": [
      "red green blue purple "
     ]
    }
   ],
   "source": [
    "colors = [\"red\", \"green\", 'blue', \"purple\"]\n",
    "\n",
    "i = 0\n",
    "while i < len(colors):\n",
    "    print(colors[i], end=\" \")\n",
    "    i += 1"
   ]
  },
  {
   "cell_type": "code",
   "execution_count": null,
   "metadata": {},
   "outputs": [],
   "source": []
  }
 ],
 "metadata": {
  "kernelspec": {
   "display_name": "Python 3.7 - default",
   "language": "python",
   "name": "py37_default"
  },
  "language_info": {
   "codemirror_mode": {
    "name": "ipython",
    "version": 3
   },
   "file_extension": ".py",
   "mimetype": "text/x-python",
   "name": "python",
   "nbconvert_exporter": "python",
   "pygments_lexer": "ipython3",
   "version": "3.7.7"
  }
 },
 "nbformat": 4,
 "nbformat_minor": 4
}
